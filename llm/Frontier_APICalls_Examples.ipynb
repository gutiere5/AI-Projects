{
 "cells": [
  {
   "cell_type": "markdown",
   "metadata": {
    "id": "FQ8IfPgNaK2P"
   },
   "source": [
    "# Frontier Model APIs\n",
    "We'll connect to the API's of Anthropic, Google and OpenAI\n"
   ]
  },
  {
   "cell_type": "markdown",
   "metadata": {
    "id": "2cLXnlYsacjh"
   },
   "source": [
    "## Set up your API keys\n",
    "Create a file called .env in your project root folder and add the following API keys:\n",
    "\n",
    "OPENAI_API_KEY=XXXXXX \\\n",
    "ANTHROPIC_API_KEY=XXXXX \\\n",
    "GOOGLE_API_KEY=XXXXXX"
   ]
  },
  {
   "cell_type": "code",
   "execution_count": 2,
   "metadata": {
    "id": "aF6ao_kcYBle"
   },
   "outputs": [],
   "source": [
    "# imports\n",
    "import os\n",
    "from dotenv import load_dotenv\n",
    "from openai import OpenAI\n",
    "import google.generativeai\n",
    "import anthropic\n",
    "from IPython.display import Markdown, display, update_display"
   ]
  },
  {
   "cell_type": "code",
   "execution_count": 5,
   "metadata": {
    "id": "VI8VJT7pX8_6"
   },
   "outputs": [],
   "source": [
    "# load environment\n",
    "load_dotenv(override=True)\n",
    "os.environ[\"OPENAI_API_KEY\"] = os.getenv(\"OPENAI_API_KEY\")\n",
    "# os.environ[\"ANTHROPIC_API_KEY\"] = os.getenv(\"ANTHROPIC_API_KEY\")\n",
    "# os.environ[\"GOOGLE_API_KEY\"] = os.getenv(\"GOOGLE_API_KEY\")"
   ]
  },
  {
   "cell_type": "code",
   "execution_count": 6,
   "metadata": {
    "id": "DSXfBqCCbrOn"
   },
   "outputs": [],
   "source": [
    "# Connect to OpenAI, Anthropic, and Google\n",
    "\n",
    "openai = OpenAI()\n",
    "anthropic = anthropic.Anthropic()\n",
    "google.generativeai.configure()"
   ]
  },
  {
   "cell_type": "markdown",
   "metadata": {
    "id": "ToI8kZXOd8Yu"
   },
   "source": [
    "## Ask LLMs to tell Jokes\n",
    "\n",
    "In order to test the connections of the API's calls we will ask them to tell jokes"
   ]
  },
  {
   "cell_type": "code",
   "execution_count": 7,
   "metadata": {
    "id": "wUEcWcHieK0J"
   },
   "outputs": [],
   "source": [
    "system_prompt = \"You are an assistant that is great at telling jokes\"\n",
    "user_prompt = \"Tell me a light-hearted joke about a cat\""
   ]
  },
  {
   "cell_type": "code",
   "execution_count": 9,
   "metadata": {
    "id": "FXAjHhx1ecWw"
   },
   "outputs": [
    {
     "name": "stdout",
     "output_type": "stream",
     "text": [
      "Why was the cat sitting on the computer?\n",
      "\n",
      "Because it wanted to keep an eye on the mouse! 🐱💻🐭\n"
     ]
    }
   ],
   "source": [
    "# gtp-4o-mini\n",
    "completion = openai.chat.completions.create(\n",
    "    model=\"gpt-4o-mini\",\n",
    "    messages=[\n",
    "        {\"role\": \"system\", \"content\": system_prompt},\n",
    "        {\"role\": \"user\", \"content\": user_prompt}\n",
    "    ],\n",
    "    temperature=0.7,\n",
    ")\n",
    "print(completion.choices[0].message.content)"
   ]
  },
  {
   "cell_type": "code",
   "execution_count": null,
   "metadata": {
    "id": "49a4e201"
   },
   "outputs": [],
   "source": [
    "# Claude 3.5\n",
    "message = claude.messages.create(\n",
    "    model=\"claude-3-5-sonnet-20240620\",\n",
    "    max_tokens=200,\n",
    "    temperature=0.7,\n",
    "    system=system_prompt,\n",
    "    messages=[\n",
    "        {\"role\": \"user\", \"content\": \"Hello!\"}\n",
    "    ]\n",
    ")\n",
    "print(message.content[0].text)"
   ]
  },
  {
   "cell_type": "code",
   "execution_count": null,
   "metadata": {
    "id": "lTzBIaHBgXOh"
   },
   "outputs": [],
   "source": [
    "# Google Gemini\n",
    "gemini = google.generativeai.GenerativeModel(\n",
    "    model=\"gemini-1.5-flash\",\n",
    "    system_prompt=system_prompt,\n",
    "    temperature=0.7,\n",
    ")\n",
    "response = gemini.generate_contect(user_prompt)\n",
    "print(response)"
   ]
  }
 ],
 "metadata": {
  "colab": {
   "authorship_tag": "ABX9TyNuubDBG4OUym5aOP1mE1or",
   "provenance": []
  },
  "kernelspec": {
   "display_name": "Python 3 (ipykernel)",
   "language": "python",
   "name": "python3"
  },
  "language_info": {
   "codemirror_mode": {
    "name": "ipython",
    "version": 3
   },
   "file_extension": ".py",
   "mimetype": "text/x-python",
   "name": "python",
   "nbconvert_exporter": "python",
   "pygments_lexer": "ipython3",
   "version": "3.11.13"
  }
 },
 "nbformat": 4,
 "nbformat_minor": 4
}
